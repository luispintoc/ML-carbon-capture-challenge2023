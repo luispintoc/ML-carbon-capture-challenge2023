{
 "cells": [
  {
   "cell_type": "code",
   "execution_count": 1,
   "metadata": {},
   "outputs": [],
   "source": [
    "import pandas as pd\n",
    "from lazypredict.Supervised import LazyRegressor\n",
    "from sklearn.model_selection import train_test_split"
   ]
  },
  {
   "cell_type": "code",
   "execution_count": 2,
   "metadata": {},
   "outputs": [],
   "source": [
    "df = pd.read_csv('./data/train_df_with_labels.csv')\n",
    "df = df.dropna(subset='Target')"
   ]
  },
  {
   "cell_type": "code",
   "execution_count": 3,
   "metadata": {},
   "outputs": [
    {
     "data": {
      "text/html": [
       "<div>\n",
       "<style scoped>\n",
       "    .dataframe tbody tr th:only-of-type {\n",
       "        vertical-align: middle;\n",
       "    }\n",
       "\n",
       "    .dataframe tbody tr th {\n",
       "        vertical-align: top;\n",
       "    }\n",
       "\n",
       "    .dataframe thead th {\n",
       "        text-align: right;\n",
       "    }\n",
       "</style>\n",
       "<table border=\"1\" class=\"dataframe\">\n",
       "  <thead>\n",
       "    <tr style=\"text-align: right;\">\n",
       "      <th></th>\n",
       "      <th>Date</th>\n",
       "      <th>Avg_PLT_CO2VentRate_TPH</th>\n",
       "      <th>Avg_CCS1_WHCO2InjPs_psi</th>\n",
       "      <th>Avg_CCS1_WHCO2InjTp_F</th>\n",
       "      <th>Avg_CCS1_ANPs_psi</th>\n",
       "      <th>Avg_CCS1_DH6325Ps_psi</th>\n",
       "      <th>Avg_CCS1_DH6325Tp_F</th>\n",
       "      <th>Avg_VW1_WBTbgPs_psi</th>\n",
       "      <th>Avg_VW1_WBTbgTp_F</th>\n",
       "      <th>Avg_VW1_ANPs_psi</th>\n",
       "      <th>...</th>\n",
       "      <th>Avg_VW1_Z02D6982Tp_F</th>\n",
       "      <th>Avg_VW1_Z01D7061Ps_psi</th>\n",
       "      <th>Avg_VW1_Z01D7061Tp_F</th>\n",
       "      <th>Avg_VW1_Z0910D5482Ps_psi</th>\n",
       "      <th>Avg_VW1_Z0910D5482Tp_F</th>\n",
       "      <th>Target</th>\n",
       "      <th>Abs Target</th>\n",
       "      <th>window_start</th>\n",
       "      <th>window_duration</th>\n",
       "      <th>within_window</th>\n",
       "    </tr>\n",
       "  </thead>\n",
       "  <tbody>\n",
       "    <tr>\n",
       "      <th>0</th>\n",
       "      <td>2009-10-01 01:00:00</td>\n",
       "      <td>20.54</td>\n",
       "      <td>1.37</td>\n",
       "      <td>55.65</td>\n",
       "      <td>89.83</td>\n",
       "      <td>2893.79</td>\n",
       "      <td>116.54</td>\n",
       "      <td>2173.76</td>\n",
       "      <td>104.05</td>\n",
       "      <td>1599.98</td>\n",
       "      <td>...</td>\n",
       "      <td>121.46</td>\n",
       "      <td>3216.52</td>\n",
       "      <td>120.28</td>\n",
       "      <td>2442.01</td>\n",
       "      <td>111.89</td>\n",
       "      <td>0.00</td>\n",
       "      <td>0.00</td>\n",
       "      <td>0</td>\n",
       "      <td>0</td>\n",
       "      <td>0</td>\n",
       "    </tr>\n",
       "    <tr>\n",
       "      <th>1</th>\n",
       "      <td>2009-10-01 02:00:00</td>\n",
       "      <td>20.54</td>\n",
       "      <td>1.32</td>\n",
       "      <td>53.66</td>\n",
       "      <td>89.81</td>\n",
       "      <td>2893.79</td>\n",
       "      <td>116.54</td>\n",
       "      <td>2173.75</td>\n",
       "      <td>104.05</td>\n",
       "      <td>1599.98</td>\n",
       "      <td>...</td>\n",
       "      <td>121.47</td>\n",
       "      <td>3216.51</td>\n",
       "      <td>120.28</td>\n",
       "      <td>2442.07</td>\n",
       "      <td>111.89</td>\n",
       "      <td>0.00</td>\n",
       "      <td>0.00</td>\n",
       "      <td>0</td>\n",
       "      <td>0</td>\n",
       "      <td>0</td>\n",
       "    </tr>\n",
       "  </tbody>\n",
       "</table>\n",
       "<p>2 rows × 39 columns</p>\n",
       "</div>"
      ],
      "text/plain": [
       "                  Date  Avg_PLT_CO2VentRate_TPH  Avg_CCS1_WHCO2InjPs_psi  \\\n",
       "0  2009-10-01 01:00:00                    20.54                     1.37   \n",
       "1  2009-10-01 02:00:00                    20.54                     1.32   \n",
       "\n",
       "   Avg_CCS1_WHCO2InjTp_F  Avg_CCS1_ANPs_psi  Avg_CCS1_DH6325Ps_psi  \\\n",
       "0                  55.65              89.83                2893.79   \n",
       "1                  53.66              89.81                2893.79   \n",
       "\n",
       "   Avg_CCS1_DH6325Tp_F  Avg_VW1_WBTbgPs_psi  Avg_VW1_WBTbgTp_F  \\\n",
       "0               116.54              2173.76             104.05   \n",
       "1               116.54              2173.75             104.05   \n",
       "\n",
       "   Avg_VW1_ANPs_psi  ...  Avg_VW1_Z02D6982Tp_F  Avg_VW1_Z01D7061Ps_psi  \\\n",
       "0           1599.98  ...                121.46                 3216.52   \n",
       "1           1599.98  ...                121.47                 3216.51   \n",
       "\n",
       "   Avg_VW1_Z01D7061Tp_F  Avg_VW1_Z0910D5482Ps_psi  Avg_VW1_Z0910D5482Tp_F  \\\n",
       "0                120.28                   2442.01                  111.89   \n",
       "1                120.28                   2442.07                  111.89   \n",
       "\n",
       "   Target  Abs Target  window_start  window_duration  within_window  \n",
       "0    0.00        0.00             0                0              0  \n",
       "1    0.00        0.00             0                0              0  \n",
       "\n",
       "[2 rows x 39 columns]"
      ]
     },
     "execution_count": 3,
     "metadata": {},
     "output_type": "execute_result"
    }
   ],
   "source": [
    "df.head(2)"
   ]
  },
  {
   "cell_type": "code",
   "execution_count": 4,
   "metadata": {},
   "outputs": [],
   "source": [
    "df = df[df['Abs Target']<=2]"
   ]
  },
  {
   "cell_type": "code",
   "execution_count": 5,
   "metadata": {},
   "outputs": [],
   "source": [
    "y = df['Target']\n",
    "x = df.drop(['window_duration','Target','Abs Target','window_start','Date','within_window'], axis=1)"
   ]
  },
  {
   "cell_type": "code",
   "execution_count": 6,
   "metadata": {},
   "outputs": [],
   "source": [
    "X_train, X_test, y_train, y_test = train_test_split(x, y, test_size=0.20, random_state=123)"
   ]
  },
  {
   "cell_type": "code",
   "execution_count": 7,
   "metadata": {},
   "outputs": [],
   "source": [
    "clf = LazyRegressor(verbose=0,ignore_warnings=True, custom_metric=None)"
   ]
  },
  {
   "cell_type": "code",
   "execution_count": 8,
   "metadata": {},
   "outputs": [
    {
     "name": "stderr",
     "output_type": "stream",
     "text": [
      " 74%|███████▍  | 31/42 [05:58<01:02,  5.67s/it]"
     ]
    }
   ],
   "source": [
    "models, predictions = clf.fit(X_train, X_test, y_train, y_test)\n",
    "models"
   ]
  }
 ],
 "metadata": {
  "kernelspec": {
   "display_name": "Python 3",
   "language": "python",
   "name": "python3"
  },
  "language_info": {
   "codemirror_mode": {
    "name": "ipython",
    "version": 3
   },
   "file_extension": ".py",
   "mimetype": "text/x-python",
   "name": "python",
   "nbconvert_exporter": "python",
   "pygments_lexer": "ipython3",
   "version": "3.10.5"
  },
  "orig_nbformat": 4
 },
 "nbformat": 4,
 "nbformat_minor": 2
}
