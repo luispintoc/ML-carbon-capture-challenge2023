{
 "cells": [
  {
   "cell_type": "code",
   "execution_count": 34,
   "metadata": {},
   "outputs": [
    {
     "name": "stderr",
     "output_type": "stream",
     "text": [
      "Intel(R) Extension for Scikit-learn* enabled (https://github.com/intel/scikit-learn-intelex)\n"
     ]
    }
   ],
   "source": [
    "from sklearnex import patch_sklearn\n",
    "patch_sklearn()\n",
    "\n",
    "import pandas as pd\n",
    "import matplotlib.pyplot as plt\n",
    "import matplotlib.cm as cm\n",
    "from sklearn.preprocessing import *     # Import all the preprocessing methods\n",
    "from sklearn.model_selection import StratifiedKFold, StratifiedShuffleSplit\n",
    "from sklearn.metrics import roc_curve, auc, roc_auc_score, log_loss, balanced_accuracy_score, accuracy_score, precision_recall_curve, average_precision_score, confusion_matrix\n",
    "from sklearn.inspection import permutation_importance\n",
    "from sklearn.linear_model import LogisticRegression\n",
    "import xgboost as xgb\n",
    "import numpy as np\n",
    "import sys, pickle\n",
    "import shap\n",
    "from sklearn.model_selection import train_test_split, TimeSeriesSplit\n",
    "plt.rcParams[\"figure.figsize\"] = (10,7)\n",
    "\n",
    "import warnings\n",
    "warnings.filterwarnings('ignore')\n",
    "from imblearn.over_sampling import RandomOverSampler"
   ]
  },
  {
   "cell_type": "code",
   "execution_count": 35,
   "metadata": {},
   "outputs": [],
   "source": [
    "train_set = pd.read_csv('./data/train_df_expanded_KNN_imp_7kfeats.csv')\n",
    "train_set = train_set.replace([np.inf, -np.inf], np.nan)"
   ]
  },
  {
   "cell_type": "code",
   "execution_count": 65,
   "metadata": {},
   "outputs": [],
   "source": [
    "y_train = train_set['Target']\n",
    "x_train = train_set.drop(['Date', 'window_start', 'window_duration', 'within_window', 'Target', 'Abs Target', 'Target > 2'], axis=1)"
   ]
  },
  {
   "cell_type": "code",
   "execution_count": 37,
   "metadata": {},
   "outputs": [],
   "source": [
    "import pickle\n",
    "with open(\"./metadata/top_K_feat_from_7k.pkl\", \"rb\") as f:\n",
    "    top_k_feats = pickle.load(f)"
   ]
  },
  {
   "cell_type": "code",
   "execution_count": 39,
   "metadata": {},
   "outputs": [],
   "source": [
    "y_train_class = train_set['Target > 2']\n",
    "x_train_class = train_set.drop(['Date', 'window_start', 'window_duration', 'within_window', 'Target', 'Target > 2'], axis=1)\n",
    "x_train_class = x_train_class[top_k_feats + ['Abs Target']]"
   ]
  },
  {
   "cell_type": "code",
   "execution_count": 40,
   "metadata": {},
   "outputs": [],
   "source": [
    "X_train_class, X_test_class, y_train_class, y_test_class = train_test_split(x_train_class, y_train_class, test_size=0.4, shuffle=False)\n",
    "X_val_class, X_test_class, y_val_class, y_test_class = train_test_split(X_test_class, y_test_class, test_size=0.5, shuffle=False)"
   ]
  },
  {
   "cell_type": "code",
   "execution_count": 41,
   "metadata": {},
   "outputs": [],
   "source": [
    "params = {'alpha': 1, 'colsample_bynode': 1, 'colsample_bytree': 1, 'colsample_bylevel': 1, 'eta': 0.05, 'eval_metric': ['logloss'],\n",
    "          'lambda': 1, 'max_depth': 4, 'objective': 'binary:logistic', 'scale_pos_weight': 1, 'subsample': 0.7, 'tree_method': 'exact',\n",
    "          'nthread': -2}"
   ]
  },
  {
   "cell_type": "code",
   "execution_count": 42,
   "metadata": {},
   "outputs": [],
   "source": [
    "ros = RandomOverSampler(random_state=42)\n",
    "X_res, y_res = ros.fit_resample(X_train_class,y_train_class )"
   ]
  },
  {
   "cell_type": "code",
   "execution_count": 48,
   "metadata": {},
   "outputs": [],
   "source": [
    "weights=X_res[17].apply(lambda x : (2-x)/2 if x<2 else (x-2)/38)\n",
    "dtrain_class = xgb.DMatrix(X_res.drop(columns=[17]), y_res,weight=weights)\n",
    "dtrain_class2 = xgb.DMatrix(X_train_class.drop(columns=[17]), y_train_class)\n",
    "dval_class = xgb.DMatrix(X_val_class.drop(columns=[17]), y_val_class)"
   ]
  },
  {
   "cell_type": "code",
   "execution_count": 49,
   "metadata": {},
   "outputs": [
    {
     "name": "stdout",
     "output_type": "stream",
     "text": [
      "[0]\ttrain-logloss:0.65001\ttest-logloss:0.64874\n",
      "[1]\ttrain-logloss:0.61082\ttest-logloss:0.60828\n",
      "[2]\ttrain-logloss:0.57506\ttest-logloss:0.57126\n",
      "[3]\ttrain-logloss:0.54246\ttest-logloss:0.53727\n",
      "[4]\ttrain-logloss:0.51265\ttest-logloss:0.50704\n",
      "[5]\ttrain-logloss:0.48531\ttest-logloss:0.47873\n",
      "[6]\ttrain-logloss:0.46007\ttest-logloss:0.45244\n",
      "[7]\ttrain-logloss:0.43673\ttest-logloss:0.42807\n",
      "[8]\ttrain-logloss:0.41495\ttest-logloss:0.40587\n",
      "[9]\ttrain-logloss:0.39468\ttest-logloss:0.38501\n",
      "[10]\ttrain-logloss:0.37591\ttest-logloss:0.36565\n",
      "[11]\ttrain-logloss:0.35828\ttest-logloss:0.34749\n",
      "[12]\ttrain-logloss:0.34184\ttest-logloss:0.33059\n",
      "[13]\ttrain-logloss:0.32639\ttest-logloss:0.31500\n",
      "[14]\ttrain-logloss:0.31207\ttest-logloss:0.30029\n",
      "[15]\ttrain-logloss:0.29859\ttest-logloss:0.28648\n",
      "[16]\ttrain-logloss:0.28619\ttest-logloss:0.27364\n",
      "[17]\ttrain-logloss:0.27413\ttest-logloss:0.26123\n",
      "[18]\ttrain-logloss:0.26305\ttest-logloss:0.24992\n",
      "[19]\ttrain-logloss:0.25245\ttest-logloss:0.23909\n",
      "[20]\ttrain-logloss:0.24272\ttest-logloss:0.22900\n",
      "[21]\ttrain-logloss:0.23334\ttest-logloss:0.21931\n",
      "[22]\ttrain-logloss:0.22475\ttest-logloss:0.21025\n",
      "[23]\ttrain-logloss:0.21631\ttest-logloss:0.20159\n",
      "[24]\ttrain-logloss:0.20835\ttest-logloss:0.19348\n",
      "[25]\ttrain-logloss:0.20109\ttest-logloss:0.18608\n",
      "[26]\ttrain-logloss:0.19404\ttest-logloss:0.17885\n",
      "[27]\ttrain-logloss:0.18737\ttest-logloss:0.17192\n",
      "[28]\ttrain-logloss:0.18105\ttest-logloss:0.16537\n",
      "[29]\ttrain-logloss:0.17514\ttest-logloss:0.15941\n",
      "[30]\ttrain-logloss:0.16947\ttest-logloss:0.15369\n",
      "[31]\ttrain-logloss:0.16414\ttest-logloss:0.14810\n",
      "[32]\ttrain-logloss:0.15914\ttest-logloss:0.14309\n",
      "[33]\ttrain-logloss:0.15430\ttest-logloss:0.13833\n",
      "[34]\ttrain-logloss:0.14950\ttest-logloss:0.13352\n",
      "[35]\ttrain-logloss:0.14506\ttest-logloss:0.12894\n",
      "[36]\ttrain-logloss:0.14098\ttest-logloss:0.12502\n",
      "[37]\ttrain-logloss:0.13706\ttest-logloss:0.12112\n",
      "[38]\ttrain-logloss:0.13329\ttest-logloss:0.11739\n",
      "[39]\ttrain-logloss:0.12963\ttest-logloss:0.11384\n",
      "[40]\ttrain-logloss:0.12592\ttest-logloss:0.11039\n",
      "[41]\ttrain-logloss:0.12259\ttest-logloss:0.10680\n",
      "[42]\ttrain-logloss:0.11940\ttest-logloss:0.10338\n",
      "[43]\ttrain-logloss:0.11618\ttest-logloss:0.10055\n",
      "[44]\ttrain-logloss:0.11332\ttest-logloss:0.09752\n",
      "[45]\ttrain-logloss:0.11058\ttest-logloss:0.09466\n",
      "[46]\ttrain-logloss:0.10791\ttest-logloss:0.09176\n",
      "[47]\ttrain-logloss:0.10541\ttest-logloss:0.08902\n",
      "[48]\ttrain-logloss:0.10308\ttest-logloss:0.08646\n",
      "[49]\ttrain-logloss:0.10085\ttest-logloss:0.08418\n",
      "[50]\ttrain-logloss:0.09876\ttest-logloss:0.08171\n",
      "[51]\ttrain-logloss:0.09677\ttest-logloss:0.07945\n",
      "[52]\ttrain-logloss:0.09454\ttest-logloss:0.07761\n",
      "[53]\ttrain-logloss:0.09275\ttest-logloss:0.07550\n",
      "[54]\ttrain-logloss:0.09098\ttest-logloss:0.07364\n",
      "[55]\ttrain-logloss:0.08933\ttest-logloss:0.07177\n",
      "[56]\ttrain-logloss:0.08775\ttest-logloss:0.07017\n",
      "[57]\ttrain-logloss:0.08627\ttest-logloss:0.06840\n",
      "[58]\ttrain-logloss:0.08441\ttest-logloss:0.06716\n",
      "[59]\ttrain-logloss:0.08281\ttest-logloss:0.06596\n",
      "[60]\ttrain-logloss:0.08143\ttest-logloss:0.06444\n",
      "[61]\ttrain-logloss:0.08010\ttest-logloss:0.06313\n",
      "[62]\ttrain-logloss:0.07892\ttest-logloss:0.06176\n",
      "[63]\ttrain-logloss:0.07747\ttest-logloss:0.06057\n",
      "[64]\ttrain-logloss:0.07608\ttest-logloss:0.05937\n",
      "[65]\ttrain-logloss:0.07481\ttest-logloss:0.05814\n",
      "[66]\ttrain-logloss:0.07376\ttest-logloss:0.05717\n",
      "[67]\ttrain-logloss:0.07268\ttest-logloss:0.05618\n",
      "[68]\ttrain-logloss:0.07152\ttest-logloss:0.05514\n",
      "[69]\ttrain-logloss:0.07063\ttest-logloss:0.05427\n",
      "[70]\ttrain-logloss:0.06948\ttest-logloss:0.05351\n",
      "[71]\ttrain-logloss:0.06832\ttest-logloss:0.05265\n",
      "[72]\ttrain-logloss:0.06747\ttest-logloss:0.05178\n",
      "[73]\ttrain-logloss:0.06640\ttest-logloss:0.05110\n",
      "[74]\ttrain-logloss:0.06558\ttest-logloss:0.05044\n",
      "[75]\ttrain-logloss:0.06458\ttest-logloss:0.04979\n",
      "[76]\ttrain-logloss:0.06376\ttest-logloss:0.04914\n",
      "[77]\ttrain-logloss:0.06307\ttest-logloss:0.04859\n",
      "[78]\ttrain-logloss:0.06234\ttest-logloss:0.04794\n",
      "[79]\ttrain-logloss:0.06156\ttest-logloss:0.04746\n",
      "[80]\ttrain-logloss:0.06056\ttest-logloss:0.04691\n",
      "[81]\ttrain-logloss:0.05993\ttest-logloss:0.04649\n",
      "[82]\ttrain-logloss:0.05934\ttest-logloss:0.04600\n",
      "[83]\ttrain-logloss:0.05861\ttest-logloss:0.04558\n",
      "[84]\ttrain-logloss:0.05785\ttest-logloss:0.04516\n",
      "[85]\ttrain-logloss:0.05708\ttest-logloss:0.04473\n",
      "[86]\ttrain-logloss:0.05649\ttest-logloss:0.04426\n",
      "[87]\ttrain-logloss:0.05583\ttest-logloss:0.04386\n",
      "[88]\ttrain-logloss:0.05530\ttest-logloss:0.04330\n",
      "[89]\ttrain-logloss:0.05460\ttest-logloss:0.04294\n",
      "[90]\ttrain-logloss:0.05396\ttest-logloss:0.04254\n",
      "[91]\ttrain-logloss:0.05353\ttest-logloss:0.04224\n",
      "[92]\ttrain-logloss:0.05302\ttest-logloss:0.04193\n",
      "[93]\ttrain-logloss:0.05249\ttest-logloss:0.04149\n",
      "[94]\ttrain-logloss:0.05202\ttest-logloss:0.04104\n",
      "[95]\ttrain-logloss:0.05158\ttest-logloss:0.04054\n",
      "[96]\ttrain-logloss:0.05123\ttest-logloss:0.04036\n",
      "[97]\ttrain-logloss:0.05076\ttest-logloss:0.04013\n",
      "[98]\ttrain-logloss:0.05032\ttest-logloss:0.03997\n",
      "[99]\ttrain-logloss:0.04988\ttest-logloss:0.03970\n",
      "[100]\ttrain-logloss:0.04951\ttest-logloss:0.03933\n",
      "[101]\ttrain-logloss:0.04917\ttest-logloss:0.03899\n",
      "[102]\ttrain-logloss:0.04853\ttest-logloss:0.03882\n",
      "[103]\ttrain-logloss:0.04795\ttest-logloss:0.03855\n",
      "[104]\ttrain-logloss:0.04753\ttest-logloss:0.03822\n",
      "[105]\ttrain-logloss:0.04708\ttest-logloss:0.03807\n",
      "[106]\ttrain-logloss:0.04683\ttest-logloss:0.03776\n",
      "[107]\ttrain-logloss:0.04641\ttest-logloss:0.03750\n",
      "[108]\ttrain-logloss:0.04592\ttest-logloss:0.03735\n",
      "[109]\ttrain-logloss:0.04568\ttest-logloss:0.03715\n",
      "[110]\ttrain-logloss:0.04539\ttest-logloss:0.03693\n",
      "[111]\ttrain-logloss:0.04490\ttest-logloss:0.03677\n",
      "[112]\ttrain-logloss:0.04469\ttest-logloss:0.03659\n",
      "[113]\ttrain-logloss:0.04443\ttest-logloss:0.03636\n",
      "[114]\ttrain-logloss:0.04407\ttest-logloss:0.03623\n",
      "[115]\ttrain-logloss:0.04386\ttest-logloss:0.03611\n",
      "[116]\ttrain-logloss:0.04358\ttest-logloss:0.03595\n",
      "[117]\ttrain-logloss:0.04306\ttest-logloss:0.03571\n",
      "[118]\ttrain-logloss:0.04291\ttest-logloss:0.03563\n",
      "[119]\ttrain-logloss:0.04250\ttest-logloss:0.03553\n",
      "[120]\ttrain-logloss:0.04210\ttest-logloss:0.03538\n",
      "[121]\ttrain-logloss:0.04179\ttest-logloss:0.03533\n",
      "[122]\ttrain-logloss:0.04145\ttest-logloss:0.03521\n",
      "[123]\ttrain-logloss:0.04124\ttest-logloss:0.03500\n",
      "[124]\ttrain-logloss:0.04089\ttest-logloss:0.03487\n",
      "[125]\ttrain-logloss:0.04065\ttest-logloss:0.03466\n",
      "[126]\ttrain-logloss:0.04034\ttest-logloss:0.03453\n",
      "[127]\ttrain-logloss:0.04018\ttest-logloss:0.03441\n",
      "[128]\ttrain-logloss:0.03999\ttest-logloss:0.03443\n",
      "[129]\ttrain-logloss:0.03973\ttest-logloss:0.03425\n",
      "[130]\ttrain-logloss:0.03959\ttest-logloss:0.03416\n",
      "[131]\ttrain-logloss:0.03940\ttest-logloss:0.03404\n",
      "[132]\ttrain-logloss:0.03915\ttest-logloss:0.03397\n",
      "[133]\ttrain-logloss:0.03884\ttest-logloss:0.03389\n",
      "[134]\ttrain-logloss:0.03854\ttest-logloss:0.03385\n",
      "[135]\ttrain-logloss:0.03837\ttest-logloss:0.03370\n",
      "[136]\ttrain-logloss:0.03811\ttest-logloss:0.03364\n",
      "[137]\ttrain-logloss:0.03786\ttest-logloss:0.03353\n",
      "[138]\ttrain-logloss:0.03759\ttest-logloss:0.03357\n",
      "[139]\ttrain-logloss:0.03742\ttest-logloss:0.03342\n",
      "[140]\ttrain-logloss:0.03727\ttest-logloss:0.03338\n",
      "[141]\ttrain-logloss:0.03711\ttest-logloss:0.03320\n",
      "[142]\ttrain-logloss:0.03687\ttest-logloss:0.03317\n",
      "[143]\ttrain-logloss:0.03672\ttest-logloss:0.03298\n",
      "[144]\ttrain-logloss:0.03656\ttest-logloss:0.03290\n",
      "[145]\ttrain-logloss:0.03637\ttest-logloss:0.03292\n",
      "[146]\ttrain-logloss:0.03619\ttest-logloss:0.03283\n",
      "[147]\ttrain-logloss:0.03604\ttest-logloss:0.03272\n",
      "[148]\ttrain-logloss:0.03589\ttest-logloss:0.03258\n",
      "[149]\ttrain-logloss:0.03569\ttest-logloss:0.03250\n",
      "[150]\ttrain-logloss:0.03547\ttest-logloss:0.03250\n",
      "[151]\ttrain-logloss:0.03530\ttest-logloss:0.03240\n",
      "[152]\ttrain-logloss:0.03516\ttest-logloss:0.03229\n",
      "[153]\ttrain-logloss:0.03506\ttest-logloss:0.03213\n",
      "[154]\ttrain-logloss:0.03487\ttest-logloss:0.03214\n",
      "[155]\ttrain-logloss:0.03476\ttest-logloss:0.03201\n",
      "[156]\ttrain-logloss:0.03457\ttest-logloss:0.03192\n",
      "[157]\ttrain-logloss:0.03435\ttest-logloss:0.03188\n",
      "[158]\ttrain-logloss:0.03423\ttest-logloss:0.03186\n",
      "[159]\ttrain-logloss:0.03407\ttest-logloss:0.03177\n",
      "[160]\ttrain-logloss:0.03382\ttest-logloss:0.03163\n",
      "[161]\ttrain-logloss:0.03368\ttest-logloss:0.03163\n",
      "[162]\ttrain-logloss:0.03356\ttest-logloss:0.03163\n",
      "[163]\ttrain-logloss:0.03341\ttest-logloss:0.03145\n",
      "[164]\ttrain-logloss:0.03323\ttest-logloss:0.03145\n",
      "[165]\ttrain-logloss:0.03298\ttest-logloss:0.03136\n",
      "[166]\ttrain-logloss:0.03286\ttest-logloss:0.03138\n",
      "[167]\ttrain-logloss:0.03277\ttest-logloss:0.03130\n",
      "[168]\ttrain-logloss:0.03251\ttest-logloss:0.03124\n",
      "[169]\ttrain-logloss:0.03240\ttest-logloss:0.03113\n",
      "[170]\ttrain-logloss:0.03227\ttest-logloss:0.03110\n",
      "[171]\ttrain-logloss:0.03211\ttest-logloss:0.03107\n",
      "[172]\ttrain-logloss:0.03196\ttest-logloss:0.03105\n",
      "[173]\ttrain-logloss:0.03186\ttest-logloss:0.03100\n",
      "[174]\ttrain-logloss:0.03175\ttest-logloss:0.03097\n",
      "[175]\ttrain-logloss:0.03162\ttest-logloss:0.03094\n",
      "[176]\ttrain-logloss:0.03135\ttest-logloss:0.03087\n",
      "[177]\ttrain-logloss:0.03124\ttest-logloss:0.03087\n",
      "[178]\ttrain-logloss:0.03112\ttest-logloss:0.03081\n",
      "[179]\ttrain-logloss:0.03091\ttest-logloss:0.03077\n"
     ]
    }
   ],
   "source": [
    "clf_class = xgb.train(params,dtrain_class,evals=[(dtrain_class, 'train'),(dval_class, 'test')],num_boost_round=180,verbose_eval=True,early_stopping_rounds=10)"
   ]
  },
  {
   "cell_type": "code",
   "execution_count": 50,
   "metadata": {},
   "outputs": [],
   "source": [
    "y_pred_train_class = clf_class.predict(dtrain_class2)\n",
    "y_pred_val_class = clf_class.predict(dval_class)"
   ]
  },
  {
   "cell_type": "code",
   "execution_count": 52,
   "metadata": {},
   "outputs": [
    {
     "name": "stdout",
     "output_type": "stream",
     "text": [
      "Best Threshold: 0.5433\n"
     ]
    }
   ],
   "source": [
    "# calculate the precision-recall curve\n",
    "precision, recall, thresholds = precision_recall_curve(y_val_class, y_pred_val_class)\n",
    "area = auc(recall, precision)\n",
    "\n",
    "# find the threshold that maximizes the AUC-PR\n",
    "f1_scores = 2 * precision * recall / (precision + recall + 1e-10)\n",
    "best_threshold = thresholds[np.argmax(f1_scores)]\n",
    "\n",
    "# print the best threshold and the corresponding AUC-PR\n",
    "print('Best Threshold: {:.4f}'.format(best_threshold))"
   ]
  },
  {
   "cell_type": "code",
   "execution_count": 53,
   "metadata": {},
   "outputs": [],
   "source": [
    "y_pred_train_class = (y_pred_train_class >= best_threshold).astype(int)\n",
    "y_pred_val_class = (y_pred_val_class >= best_threshold).astype(int)\n"
   ]
  },
  {
   "cell_type": "code",
   "execution_count": 56,
   "metadata": {},
   "outputs": [
    {
     "data": {
      "text/plain": [
       "array([[5264,   32],\n",
       "       [  32,  159]], dtype=int64)"
      ]
     },
     "execution_count": 56,
     "metadata": {},
     "output_type": "execute_result"
    }
   ],
   "source": [
    "cm = confusion_matrix(y_val_class, y_pred_val_class)\n",
    "cm"
   ]
  },
  {
   "cell_type": "code",
   "execution_count": 66,
   "metadata": {},
   "outputs": [],
   "source": [
    "X_train, X_test, y_train, y_test = train_test_split(x_train, y_train, test_size=0.4, shuffle=False)\n",
    "X_val, X_test, y_val, y_test = train_test_split(X_test, y_test, test_size=0.5, shuffle=False)\n",
    "\n",
    "#X_val = X_val.iloc[26:]\n",
    "#y_val = y_val.iloc[26:]"
   ]
  },
  {
   "cell_type": "code",
   "execution_count": 67,
   "metadata": {},
   "outputs": [],
   "source": [
    "X_train.columns=train_set.drop(['Date', 'window_start', 'window_duration', 'within_window', 'Target', 'Abs Target', 'Target > 2'], axis=1).columns\n",
    "X_val.columns=X_train.columns\n",
    "X_test.columns=X_train.columns"
   ]
  },
  {
   "cell_type": "code",
   "execution_count": 68,
   "metadata": {},
   "outputs": [],
   "source": [
    "X_train['Class']=y_pred_train_class\n",
    "X_val['Class']=y_pred_val_class"
   ]
  },
  {
   "cell_type": "code",
   "execution_count": 69,
   "metadata": {},
   "outputs": [],
   "source": [
    "def xgb_mape(preds, dtrain):\n",
    "   labels = dtrain.get_label()\n",
    "   return('mape', -np.mean(np.abs((labels - preds) / (labels + 1))))\n",
    "\n",
    "params = {'alpha': 1, 'colsample_bynode': 1, 'colsample_bytree': 1, 'colsample_bylevel': 1, 'eta': 0.05, 'eval_metric': ['rmse'],\n",
    "          'lambda': 1, 'max_depth': 4, 'objective': 'reg:squarederror', 'scale_pos_weight': 1, 'subsample': 0.7, 'tree_method': 'exact',\n",
    "          'nthread': -2, 'base_score': 0}"
   ]
  },
  {
   "cell_type": "code",
   "execution_count": 72,
   "metadata": {},
   "outputs": [],
   "source": [
    "dtrain = xgb.DMatrix(X_train[X_train['Class']==1].drop(columns=['Class']), y_train[X_train['Class']==1])\n",
    "dval = xgb.DMatrix(X_val[X_val['Class']==1].drop(columns=['Class']), y_val[X_val['Class']==1])"
   ]
  },
  {
   "cell_type": "code",
   "execution_count": 73,
   "metadata": {},
   "outputs": [
    {
     "name": "stdout",
     "output_type": "stream",
     "text": [
      "[0]\ttrain-rmse:17.27074\ttest-rmse:20.19552\n",
      "[1]\ttrain-rmse:16.65789\ttest-rmse:19.47835\n",
      "[2]\ttrain-rmse:16.04953\ttest-rmse:18.77623\n",
      "[3]\ttrain-rmse:15.51477\ttest-rmse:18.19983\n",
      "[4]\ttrain-rmse:14.96675\ttest-rmse:17.54882\n",
      "[5]\ttrain-rmse:14.49145\ttest-rmse:16.98556\n",
      "[6]\ttrain-rmse:14.03890\ttest-rmse:16.43000\n",
      "[7]\ttrain-rmse:13.57566\ttest-rmse:16.02547\n",
      "[8]\ttrain-rmse:13.14161\ttest-rmse:15.42524\n",
      "[9]\ttrain-rmse:12.73918\ttest-rmse:14.88417\n",
      "[10]\ttrain-rmse:12.37297\ttest-rmse:14.45058\n",
      "[11]\ttrain-rmse:12.03444\ttest-rmse:14.15751\n",
      "[12]\ttrain-rmse:11.70951\ttest-rmse:13.66435\n",
      "[13]\ttrain-rmse:11.34933\ttest-rmse:13.17383\n",
      "[14]\ttrain-rmse:11.02946\ttest-rmse:12.78455\n",
      "[15]\ttrain-rmse:10.73725\ttest-rmse:12.46841\n",
      "[16]\ttrain-rmse:10.44324\ttest-rmse:12.08762\n",
      "[17]\ttrain-rmse:10.15731\ttest-rmse:11.79245\n",
      "[18]\ttrain-rmse:9.90587\ttest-rmse:11.47671\n",
      "[19]\ttrain-rmse:9.66064\ttest-rmse:11.20071\n",
      "[20]\ttrain-rmse:9.39975\ttest-rmse:10.94675\n",
      "[21]\ttrain-rmse:9.18875\ttest-rmse:10.70486\n",
      "[22]\ttrain-rmse:8.99165\ttest-rmse:10.53173\n",
      "[23]\ttrain-rmse:8.81139\ttest-rmse:10.32418\n",
      "[24]\ttrain-rmse:8.61720\ttest-rmse:10.06236\n",
      "[25]\ttrain-rmse:8.44793\ttest-rmse:9.85384\n",
      "[26]\ttrain-rmse:8.27720\ttest-rmse:9.70177\n",
      "[27]\ttrain-rmse:8.10873\ttest-rmse:9.54999\n",
      "[28]\ttrain-rmse:7.94458\ttest-rmse:9.38921\n",
      "[29]\ttrain-rmse:7.80578\ttest-rmse:9.26185\n",
      "[30]\ttrain-rmse:7.68398\ttest-rmse:9.06762\n",
      "[31]\ttrain-rmse:7.56286\ttest-rmse:8.96241\n",
      "[32]\ttrain-rmse:7.42682\ttest-rmse:8.83293\n",
      "[33]\ttrain-rmse:7.29458\ttest-rmse:8.70425\n",
      "[34]\ttrain-rmse:7.17171\ttest-rmse:8.57665\n",
      "[35]\ttrain-rmse:7.04539\ttest-rmse:8.44895\n",
      "[36]\ttrain-rmse:6.91991\ttest-rmse:8.34646\n",
      "[37]\ttrain-rmse:6.81649\ttest-rmse:8.28115\n",
      "[38]\ttrain-rmse:6.73667\ttest-rmse:8.23289\n",
      "[39]\ttrain-rmse:6.65004\ttest-rmse:8.17337\n",
      "[40]\ttrain-rmse:6.56274\ttest-rmse:8.10465\n",
      "[41]\ttrain-rmse:6.47443\ttest-rmse:8.08337\n",
      "[42]\ttrain-rmse:6.37309\ttest-rmse:7.99221\n",
      "[43]\ttrain-rmse:6.29887\ttest-rmse:7.95631\n",
      "[44]\ttrain-rmse:6.20932\ttest-rmse:7.86740\n",
      "[45]\ttrain-rmse:6.11935\ttest-rmse:7.81524\n",
      "[46]\ttrain-rmse:6.03451\ttest-rmse:7.76197\n",
      "[47]\ttrain-rmse:5.96062\ttest-rmse:7.71898\n",
      "[48]\ttrain-rmse:5.88522\ttest-rmse:7.67680\n",
      "[49]\ttrain-rmse:5.80818\ttest-rmse:7.65412\n",
      "[50]\ttrain-rmse:5.74850\ttest-rmse:7.61270\n",
      "[51]\ttrain-rmse:5.68731\ttest-rmse:7.56943\n",
      "[52]\ttrain-rmse:5.62258\ttest-rmse:7.52850\n",
      "[53]\ttrain-rmse:5.55907\ttest-rmse:7.52194\n",
      "[54]\ttrain-rmse:5.50051\ttest-rmse:7.50944\n",
      "[55]\ttrain-rmse:5.45541\ttest-rmse:7.48345\n",
      "[56]\ttrain-rmse:5.38630\ttest-rmse:7.47138\n",
      "[57]\ttrain-rmse:5.32017\ttest-rmse:7.45880\n",
      "[58]\ttrain-rmse:5.25494\ttest-rmse:7.44559\n",
      "[59]\ttrain-rmse:5.20152\ttest-rmse:7.41920\n",
      "[60]\ttrain-rmse:5.16132\ttest-rmse:7.38755\n",
      "[61]\ttrain-rmse:5.11300\ttest-rmse:7.35436\n",
      "[62]\ttrain-rmse:5.07042\ttest-rmse:7.36431\n",
      "[63]\ttrain-rmse:5.01934\ttest-rmse:7.36116\n",
      "[64]\ttrain-rmse:4.98022\ttest-rmse:7.32815\n",
      "[65]\ttrain-rmse:4.93025\ttest-rmse:7.31141\n",
      "[66]\ttrain-rmse:4.86979\ttest-rmse:7.30893\n",
      "[67]\ttrain-rmse:4.82127\ttest-rmse:7.28593\n",
      "[68]\ttrain-rmse:4.79268\ttest-rmse:7.26471\n",
      "[69]\ttrain-rmse:4.75344\ttest-rmse:7.25988\n",
      "[70]\ttrain-rmse:4.71095\ttest-rmse:7.20790\n",
      "[71]\ttrain-rmse:4.67993\ttest-rmse:7.19951\n",
      "[72]\ttrain-rmse:4.64278\ttest-rmse:7.17577\n",
      "[73]\ttrain-rmse:4.60554\ttest-rmse:7.16217\n",
      "[74]\ttrain-rmse:4.55405\ttest-rmse:7.15079\n",
      "[75]\ttrain-rmse:4.50922\ttest-rmse:7.16532\n",
      "[76]\ttrain-rmse:4.46630\ttest-rmse:7.15740\n",
      "[77]\ttrain-rmse:4.43498\ttest-rmse:7.14767\n",
      "[78]\ttrain-rmse:4.40601\ttest-rmse:7.13838\n",
      "[79]\ttrain-rmse:4.36595\ttest-rmse:7.13939\n",
      "[80]\ttrain-rmse:4.33367\ttest-rmse:7.12903\n",
      "[81]\ttrain-rmse:4.30049\ttest-rmse:7.11858\n",
      "[82]\ttrain-rmse:4.25533\ttest-rmse:7.09167\n",
      "[83]\ttrain-rmse:4.22641\ttest-rmse:7.09050\n",
      "[84]\ttrain-rmse:4.19827\ttest-rmse:7.07499\n",
      "[85]\ttrain-rmse:4.17688\ttest-rmse:7.07158\n",
      "[86]\ttrain-rmse:4.14580\ttest-rmse:7.06361\n",
      "[87]\ttrain-rmse:4.12881\ttest-rmse:7.05907\n",
      "[88]\ttrain-rmse:4.10659\ttest-rmse:7.04709\n",
      "[89]\ttrain-rmse:4.06840\ttest-rmse:7.04583\n",
      "[90]\ttrain-rmse:4.05043\ttest-rmse:7.04195\n",
      "[91]\ttrain-rmse:4.01938\ttest-rmse:7.03518\n",
      "[92]\ttrain-rmse:3.98988\ttest-rmse:7.00987\n",
      "[93]\ttrain-rmse:3.96300\ttest-rmse:6.99675\n",
      "[94]\ttrain-rmse:3.93448\ttest-rmse:6.98596\n",
      "[95]\ttrain-rmse:3.90090\ttest-rmse:6.97008\n",
      "[96]\ttrain-rmse:3.88016\ttest-rmse:6.96432\n",
      "[97]\ttrain-rmse:3.85231\ttest-rmse:6.96067\n",
      "[98]\ttrain-rmse:3.81456\ttest-rmse:6.96577\n",
      "[99]\ttrain-rmse:3.78897\ttest-rmse:6.96104\n",
      "[100]\ttrain-rmse:3.77648\ttest-rmse:6.96389\n",
      "[101]\ttrain-rmse:3.74998\ttest-rmse:6.94586\n",
      "[102]\ttrain-rmse:3.73086\ttest-rmse:6.93584\n",
      "[103]\ttrain-rmse:3.69962\ttest-rmse:6.92575\n",
      "[104]\ttrain-rmse:3.66382\ttest-rmse:6.92914\n",
      "[105]\ttrain-rmse:3.64741\ttest-rmse:6.92721\n",
      "[106]\ttrain-rmse:3.63311\ttest-rmse:6.91550\n",
      "[107]\ttrain-rmse:3.59859\ttest-rmse:6.91081\n",
      "[108]\ttrain-rmse:3.56599\ttest-rmse:6.90268\n",
      "[109]\ttrain-rmse:3.54284\ttest-rmse:6.89642\n",
      "[110]\ttrain-rmse:3.51885\ttest-rmse:6.89111\n",
      "[111]\ttrain-rmse:3.49692\ttest-rmse:6.88495\n",
      "[112]\ttrain-rmse:3.47398\ttest-rmse:6.86266\n",
      "[113]\ttrain-rmse:3.44576\ttest-rmse:6.84039\n",
      "[114]\ttrain-rmse:3.43263\ttest-rmse:6.84003\n",
      "[115]\ttrain-rmse:3.41989\ttest-rmse:6.83480\n",
      "[116]\ttrain-rmse:3.39181\ttest-rmse:6.83403\n",
      "[117]\ttrain-rmse:3.36880\ttest-rmse:6.84065\n",
      "[118]\ttrain-rmse:3.35403\ttest-rmse:6.84019\n",
      "[119]\ttrain-rmse:3.32344\ttest-rmse:6.81760\n",
      "[120]\ttrain-rmse:3.29888\ttest-rmse:6.80746\n",
      "[121]\ttrain-rmse:3.28006\ttest-rmse:6.80491\n",
      "[122]\ttrain-rmse:3.26798\ttest-rmse:6.80416\n",
      "[123]\ttrain-rmse:3.24804\ttest-rmse:6.80725\n",
      "[124]\ttrain-rmse:3.22742\ttest-rmse:6.79891\n",
      "[125]\ttrain-rmse:3.20963\ttest-rmse:6.79787\n",
      "[126]\ttrain-rmse:3.18616\ttest-rmse:6.79115\n",
      "[127]\ttrain-rmse:3.16770\ttest-rmse:6.78811\n",
      "[128]\ttrain-rmse:3.13512\ttest-rmse:6.79288\n",
      "[129]\ttrain-rmse:3.10793\ttest-rmse:6.78717\n",
      "[130]\ttrain-rmse:3.09367\ttest-rmse:6.78528\n",
      "[131]\ttrain-rmse:3.08803\ttest-rmse:6.78076\n",
      "[132]\ttrain-rmse:3.06819\ttest-rmse:6.77427\n",
      "[133]\ttrain-rmse:3.04631\ttest-rmse:6.77167\n",
      "[134]\ttrain-rmse:3.03560\ttest-rmse:6.76835\n",
      "[135]\ttrain-rmse:3.00872\ttest-rmse:6.74829\n",
      "[136]\ttrain-rmse:2.98441\ttest-rmse:6.75214\n",
      "[137]\ttrain-rmse:2.96668\ttest-rmse:6.74588\n",
      "[138]\ttrain-rmse:2.95958\ttest-rmse:6.73971\n",
      "[139]\ttrain-rmse:2.93871\ttest-rmse:6.73367\n",
      "[140]\ttrain-rmse:2.91877\ttest-rmse:6.73099\n",
      "[141]\ttrain-rmse:2.90232\ttest-rmse:6.73105\n",
      "[142]\ttrain-rmse:2.87953\ttest-rmse:6.72729\n",
      "[143]\ttrain-rmse:2.85997\ttest-rmse:6.72929\n",
      "[144]\ttrain-rmse:2.84309\ttest-rmse:6.71733\n",
      "[145]\ttrain-rmse:2.81501\ttest-rmse:6.71213\n",
      "[146]\ttrain-rmse:2.80375\ttest-rmse:6.70979\n",
      "[147]\ttrain-rmse:2.79196\ttest-rmse:6.70783\n",
      "[148]\ttrain-rmse:2.77061\ttest-rmse:6.70791\n",
      "[149]\ttrain-rmse:2.75931\ttest-rmse:6.70952\n",
      "[150]\ttrain-rmse:2.75107\ttest-rmse:6.71153\n",
      "[151]\ttrain-rmse:2.73737\ttest-rmse:6.71453\n",
      "[152]\ttrain-rmse:2.71289\ttest-rmse:6.70683\n",
      "[153]\ttrain-rmse:2.68853\ttest-rmse:6.70594\n",
      "[154]\ttrain-rmse:2.67039\ttest-rmse:6.70316\n",
      "[155]\ttrain-rmse:2.65165\ttest-rmse:6.69184\n",
      "[156]\ttrain-rmse:2.64255\ttest-rmse:6.69339\n",
      "[157]\ttrain-rmse:2.62404\ttest-rmse:6.68812\n",
      "[158]\ttrain-rmse:2.60272\ttest-rmse:6.69415\n",
      "[159]\ttrain-rmse:2.58871\ttest-rmse:6.69197\n",
      "[160]\ttrain-rmse:2.57633\ttest-rmse:6.68587\n",
      "[161]\ttrain-rmse:2.55067\ttest-rmse:6.68150\n",
      "[162]\ttrain-rmse:2.54162\ttest-rmse:6.68051\n",
      "[163]\ttrain-rmse:2.51782\ttest-rmse:6.68004\n",
      "[164]\ttrain-rmse:2.49837\ttest-rmse:6.67816\n",
      "[165]\ttrain-rmse:2.48650\ttest-rmse:6.68111\n",
      "[166]\ttrain-rmse:2.47085\ttest-rmse:6.67709\n",
      "[167]\ttrain-rmse:2.46125\ttest-rmse:6.66955\n",
      "[168]\ttrain-rmse:2.44211\ttest-rmse:6.66778\n",
      "[169]\ttrain-rmse:2.42085\ttest-rmse:6.66860\n",
      "[170]\ttrain-rmse:2.40486\ttest-rmse:6.67004\n",
      "[171]\ttrain-rmse:2.38403\ttest-rmse:6.66941\n",
      "[172]\ttrain-rmse:2.36233\ttest-rmse:6.66749\n",
      "[173]\ttrain-rmse:2.34405\ttest-rmse:6.65984\n",
      "[174]\ttrain-rmse:2.32632\ttest-rmse:6.65774\n",
      "[175]\ttrain-rmse:2.32038\ttest-rmse:6.64939\n",
      "[176]\ttrain-rmse:2.30422\ttest-rmse:6.65021\n",
      "[177]\ttrain-rmse:2.29532\ttest-rmse:6.64652\n",
      "[178]\ttrain-rmse:2.28066\ttest-rmse:6.64538\n",
      "[179]\ttrain-rmse:2.26572\ttest-rmse:6.64864\n"
     ]
    }
   ],
   "source": [
    "clf = xgb.train(params,dtrain,evals=[(dtrain, 'train'),(dval, 'test')],num_boost_round=180,verbose_eval=True,early_stopping_rounds=10)"
   ]
  },
  {
   "cell_type": "code",
   "execution_count": 74,
   "metadata": {},
   "outputs": [],
   "source": [
    "y_pred_train = clf.predict(dtrain)\n",
    "y_pred_val = clf.predict(dval)"
   ]
  },
  {
   "cell_type": "code",
   "execution_count": 76,
   "metadata": {},
   "outputs": [],
   "source": [
    "feat_importance = clf.get_score(importance_type='gain')\n",
    "feat_importance = {k: v for k, v in sorted(feat_importance.items(), key=lambda item: item[1], reverse=True)}\n",
    "top_10_gain = list(feat_importance.keys())[:10]\n",
    "\n",
    "feat_importance = clf.get_score(importance_type='weight')\n",
    "feat_importance = {k: v for k, v in sorted(feat_importance.items(), key=lambda item: item[1], reverse=True)}\n",
    "top_10_weight = list(feat_importance.keys())[:10]\n",
    "\n",
    "explainer = shap.TreeExplainer(clf)\n",
    "shap_values = explainer(X_train[X_train['Class']==1].drop(columns=['Class']))\n",
    "shap_summary = pd.DataFrame(shap_values.values, columns=X_train[X_train['Class']==1].drop(columns=['Class']).columns)\n",
    "mean_abs_shap_values = shap_summary.abs().mean().sort_values(ascending=False)\n",
    "top_10_shap = mean_abs_shap_values.head(10).index.tolist()\n",
    "\n",
    "top_K_feat = list(set(top_10_gain+top_10_weight+top_10_shap))"
   ]
  },
  {
   "cell_type": "code",
   "execution_count": 77,
   "metadata": {},
   "outputs": [],
   "source": [
    "import pickle"
   ]
  },
  {
   "cell_type": "code",
   "execution_count": 78,
   "metadata": {},
   "outputs": [],
   "source": [
    "with open(\"./metadata/top_K_feat_from_7k_reg.pkl\", \"wb\") as f:\n",
    "    pickle.dump(top_K_feat, f)"
   ]
  },
  {
   "cell_type": "code",
   "execution_count": 80,
   "metadata": {},
   "outputs": [
    {
     "data": {
      "image/png": "[encoded data removed]",
      "text/plain": [
       "<Figure size 720x504 with 2 Axes>"
      ]
     },
     "metadata": {
      "needs_background": "light"
     },
     "output_type": "display_data"
    }
   ],
   "source": [
    "# # Calculate the SHAP values\n",
    "# explainer = shap.TreeExplainer(clf)\n",
    "# shap_values = explainer(X_train)\n",
    "\n",
    "# # Get the top 10 features by absolute SHAP value\n",
    "# top10_feats = np.sort(shap_values.abs.mean(0).values)[:10]\n",
    "\n",
    "# # Plot the SHAP summary plot for the top 10 features\n",
    "shap.summary_plot(shap_values, X_train[X_train['Class']==1].drop(columns=['Class']),\n",
    "                   plot_size=(10, 7), max_display=10)"
   ]
  },
  {
   "cell_type": "code",
   "execution_count": 34,
   "metadata": {},
   "outputs": [
    {
     "data": {
      "text/plain": [
       ".values =\n",
       "array([0.00073046, 0.12607947, 0.00488459, ..., 0.00887969, 0.        ,\n",
       "       0.        ], dtype=float32)\n",
       "\n",
       ".base_values =\n",
       "-3.7998426\n",
       "\n",
       ".data =\n",
       "array([2.07793697e+00, 1.17286083e+03, 8.75375574e+01, ...,\n",
       "       2.67980476e+03, 2.84253300e-02, 7.12585618e+01])"
      ]
     },
     "execution_count": 34,
     "metadata": {},
     "output_type": "execute_result"
    }
   ],
   "source": [
    "shap_values.abs.mean(0)"
   ]
  },
  {
   "cell_type": "code",
   "execution_count": 14,
   "metadata": {},
   "outputs": [
    {
     "data": {
      "image/png": "[encoded data removed]",
      "text/plain": [
       "<Figure size 432x288 with 1 Axes>"
      ]
     },
     "metadata": {
      "needs_background": "light"
     },
     "output_type": "display_data"
    }
   ],
   "source": [
    "# plot the histogram of probabilities with the color representing the true label\n",
    "plt.hist(y_pred_val[y_val==1], bins=50, color='r', alpha=0.5, label='Positive')\n",
    "plt.xlabel('Probability')\n",
    "plt.ylabel('Frequency')\n",
    "plt.legend(loc='upper center')\n",
    "plt.show()"
   ]
  },
  {
   "cell_type": "code",
   "execution_count": 16,
   "metadata": {},
   "outputs": [
    {
     "data": {
      "image/png": "[encoded data removed]",
      "text/plain": [
       "<Figure size 432x288 with 1 Axes>"
      ]
     },
     "metadata": {
      "needs_background": "light"
     },
     "output_type": "display_data"
    }
   ],
   "source": [
    "# calculate and plot the AUC-PR curve\n",
    "precision, recall, _ = precision_recall_curve(y_val, y_pred_val)\n",
    "average_precision = average_precision_score(y_val, y_pred_val)\n",
    "plt.plot(recall, precision, label='AP={:.2f}'.format(average_precision))\n",
    "plt.xlabel('Recall')\n",
    "plt.ylabel('Precision')\n",
    "plt.legend(loc='lower left')\n",
    "plt.show()"
   ]
  },
  {
   "cell_type": "code",
   "execution_count": 18,
   "metadata": {},
   "outputs": [
    {
     "name": "stdout",
     "output_type": "stream",
     "text": [
      "Best Threshold: 0.3373\n"
     ]
    }
   ],
   "source": [
    "# calculate the precision-recall curve\n",
    "precision, recall, thresholds = precision_recall_curve(y_val, y_pred_val)\n",
    "area = auc(recall, precision)\n",
    "\n",
    "# find the threshold that maximizes the AUC-PR\n",
    "f1_scores = 2 * precision * recall / (precision + recall + 1e-10)\n",
    "best_threshold = thresholds[np.argmax(f1_scores)]\n",
    "\n",
    "# print the best threshold and the corresponding AUC-PR\n",
    "print('Best Threshold: {:.4f}'.format(best_threshold))"
   ]
  },
  {
   "cell_type": "code",
   "execution_count": 19,
   "metadata": {},
   "outputs": [],
   "source": []
  },
  {
   "cell_type": "code",
   "execution_count": 21,
   "metadata": {},
   "outputs": [],
   "source": [
    "# predict binary labels using the best threshold\n",
    "y_pred = (y_pred_val >= best_threshold).astype(int)\n",
    "\n",
    "# calculate the confusion matrix\n",
    "cm = confusion_matrix(y_val, y_pred)"
   ]
  },
  {
   "cell_type": "code",
   "execution_count": 22,
   "metadata": {},
   "outputs": [
    {
     "data": {
      "text/plain": [
       "array([[5248,   22],\n",
       "       [  39,  152]], dtype=int64)"
      ]
     },
     "execution_count": 22,
     "metadata": {},
     "output_type": "execute_result"
    }
   ],
   "source": [
    "cm"
   ]
  },
  {
   "cell_type": "code",
   "execution_count": 62,
   "metadata": {},
   "outputs": [
    {
     "data": {
      "text/plain": [
       "array([[8732,   23],\n",
       "       [  38,  269]], dtype=int64)"
      ]
     },
     "execution_count": 62,
     "metadata": {},
     "output_type": "execute_result"
    }
   ],
   "source": [
    "cm"
   ]
  },
  {
   "cell_type": "code",
   "execution_count": 40,
   "metadata": {},
   "outputs": [
    {
     "data": {
      "text/plain": [
       "array([[8722,   33],\n",
       "       [  34,  273]], dtype=int64)"
      ]
     },
     "execution_count": 40,
     "metadata": {},
     "output_type": "execute_result"
    }
   ],
   "source": [
    "cm"
   ]
  }
 ],
 "metadata": {
  "kernelspec": {
   "display_name": "Python 3 (ipykernel)",
   "language": "python",
   "name": "python3"
  },
  "language_info": {
   "codemirror_mode": {
    "name": "ipython",
    "version": 3
   },
   "file_extension": ".py",
   "mimetype": "text/x-python",
   "name": "python",
   "nbconvert_exporter": "python",
   "pygments_lexer": "ipython3",
   "version": "3.9.7"
  },
  "vscode": {
   "interpreter": {
    "hash": "1ed5e650e7b85f6d28a7881f323a4bb46d30b3be17201a6770ba700219f95cb4"
   }
  }
 },
 "nbformat": 4,
 "nbformat_minor": 2
}
