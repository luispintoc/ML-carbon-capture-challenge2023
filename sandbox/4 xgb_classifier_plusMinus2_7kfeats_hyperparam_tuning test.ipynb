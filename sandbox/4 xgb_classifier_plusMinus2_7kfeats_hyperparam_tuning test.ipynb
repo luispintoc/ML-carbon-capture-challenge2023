{
 "cells": [
  {
   "cell_type": "code",
   "execution_count": 1,
   "metadata": {},
   "outputs": [
    {
     "name": "stderr",
     "output_type": "stream",
     "text": [
      "Intel(R) Extension for Scikit-learn* enabled (https://github.com/intel/scikit-learn-intelex)\n"
     ]
    }
   ],
   "source": [
    "from sklearnex import patch_sklearn\n",
    "patch_sklearn()\n",
    "\n",
    "import pandas as pd\n",
    "import matplotlib.pyplot as plt\n",
    "import matplotlib.cm as cm\n",
    "from sklearn.preprocessing import *     # Import all the preprocessing methods\n",
    "from sklearn.model_selection import StratifiedKFold, StratifiedShuffleSplit\n",
    "from sklearn.metrics import roc_curve, auc, roc_auc_score, log_loss, balanced_accuracy_score, accuracy_score, precision_recall_curve, average_precision_score, confusion_matrix\n",
    "from sklearn.inspection import permutation_importance\n",
    "from sklearn.linear_model import LogisticRegression\n",
    "import xgboost as xgb\n",
    "import numpy as np\n",
    "import sys, pickle, itertools\n",
    "from sklearn.model_selection import train_test_split, TimeSeriesSplit\n",
    "plt.rcParams[\"figure.figsize\"] = (10,7)\n",
    "\n",
    "import warnings\n",
    "warnings.filterwarnings('ignore')"
   ]
  },
  {
   "cell_type": "code",
   "execution_count": 3,
   "metadata": {},
   "outputs": [],
   "source": [
    "train_set = pd.read_csv('../data/train_df_expanded_KNN_imp_7kfeats.csv')\n",
    "train_set = train_set.replace([np.inf, -np.inf], np.nan)"
   ]
  },
  {
   "cell_type": "code",
   "execution_count": 14,
   "metadata": {},
   "outputs": [],
   "source": [
    "y_train = train_set['Target > 2']\n",
    "x_train = train_set.drop(['Date', 'window_start', 'window_duration', 'within_window', 'Target', 'Abs Target', 'Target > 2'], axis=1)"
   ]
  },
  {
   "cell_type": "code",
   "execution_count": 15,
   "metadata": {},
   "outputs": [],
   "source": [
    "X_train, X_test, y_train, y_test = train_test_split(x_train, y_train, test_size=0.2, shuffle=False)\n",
    "\n",
    "X_test = X_test.iloc[26:]\n",
    "y_test = y_test.iloc[26:]"
   ]
  },
  {
   "cell_type": "code",
   "execution_count": 6,
   "metadata": {},
   "outputs": [],
   "source": [
    "# X_test = X_test.drop(['Abs Target'], axis=1)\n",
    "\n",
    "# df_temp = pd.concat([X_train, y_train], axis=1)\n",
    "# df_temp['Target > 2'] = df_temp['Abs Target'].apply(lambda x: 1 if x > 1.95 else 0)\n",
    "# y_train = df_temp['Target > 2']\n",
    "# X_train = df_temp.drop(['Target > 2', 'Abs Target'], axis=1)"
   ]
  },
  {
   "cell_type": "code",
   "execution_count": 7,
   "metadata": {},
   "outputs": [],
   "source": [
    "# # Apply label smoothing to the target variable\n",
    "# def smooth_labels(y, alpha=0.1):\n",
    "#     return y * (1 - alpha) + alpha * 0.5\n",
    "# y_train_smoothed = smooth_labels(y_train, alpha=0.3)"
   ]
  },
  {
   "cell_type": "code",
   "execution_count": 16,
   "metadata": {},
   "outputs": [],
   "source": [
    "#Keep best X features\n",
    "with open(\"../metadata/top_K_feat_from_7k.pkl\", \"rb\") as f:\n",
    "    top_k_feats = pickle.load(f)\n",
    "\n",
    "x_train = x_train[list(top_k_feats)]"
   ]
  },
  {
   "cell_type": "code",
   "execution_count": 17,
   "metadata": {},
   "outputs": [],
   "source": [
    "dtrain = xgb.DMatrix(X_train, y_train)\n",
    "dval = xgb.DMatrix(X_test, y_test)"
   ]
  },
  {
   "cell_type": "code",
   "execution_count": 18,
   "metadata": {},
   "outputs": [],
   "source": [
    "param_grid = {\n",
    "    'alpha': [1, 5],\n",
    "    'lambda': [1, 5],\n",
    "    'colsample_bytree': [0.7, 1],\n",
    "    'colsample_bylevel': [0.7, 1],\n",
    "    'subsample': [0.7, 1],\n",
    "    'eval_metric': ['logloss'],\n",
    "    'tree_method': ['exact'],\n",
    "    'nthread': [-2],\n",
    "    'objective': ['binary:logistic'],\n",
    "    'scale_pos_weight': [1, np.sqrt(sum(y_train==0)/sum(y_train==1))]\n",
    "}\n",
    "\n",
    "# Create a list of all combinations of hyperparameters\n",
    "keys, values = zip(*param_grid.items())\n",
    "hyperparameter_combinations = [dict(zip(keys, v)) for v in itertools.product(*values)]"
   ]
  },
  {
   "cell_type": "code",
   "execution_count": 19,
   "metadata": {},
   "outputs": [],
   "source": [
    "def find_optimal_threshold(y_true, y_probs):\n",
    "    fpr, tpr, thresholds = roc_curve(y_true, y_probs)\n",
    "    \n",
    "    # Calculate the distance from each point on the ROC curve to the top-left corner\n",
    "    distances = np.sqrt(np.square(1 - tpr) + np.square(fpr))\n",
    "    \n",
    "    # Find the index of the smallest distance\n",
    "    min_distance_index = np.argmin(distances)\n",
    "    \n",
    "    # Return the threshold corresponding to the smallest distance\n",
    "    return thresholds[min_distance_index]"
   ]
  },
  {
   "cell_type": "code",
   "execution_count": 20,
   "metadata": {},
   "outputs": [
    {
     "name": "stdout",
     "output_type": "stream",
     "text": [
      "AUC=0.953962688493762\n",
      "AUCPR=0.9540991955036271\n",
      "TP=184, FP=83, FN=4\n",
      "----------\n",
      "AUC=0.9542033737089577\n",
      "AUCPR=0.9543734870677545\n",
      "TP=184, FP=72, FN=4\n",
      "----------\n",
      "AUC=0.9569790208005289\n",
      "AUCPR=0.9572670931857723\n",
      "TP=184, FP=49, FN=4\n",
      "----------\n",
      "AUC=0.9595734509185839\n",
      "AUCPR=0.959685444098699\n",
      "TP=184, FP=62, FN=4\n",
      "----------\n",
      "AUC=0.9589295099890923\n",
      "AUCPR=0.9590653017827052\n",
      "TP=186, FP=100, FN=2\n",
      "----------\n",
      "AUC=0.9365607253409629\n",
      "AUCPR=0.9369282491916979\n",
      "TP=184, FP=143, FN=4\n",
      "----------\n",
      "AUC=0.9637382833165254\n",
      "AUCPR=0.9638596288386974\n",
      "TP=185, FP=73, FN=3\n",
      "----------\n"
     ]
    },
    {
     "ename": "KeyboardInterrupt",
     "evalue": "",
     "output_type": "error",
     "traceback": [
      "\u001b[1;31m---------------------------------------------------------------------------\u001b[0m",
      "\u001b[1;31mKeyboardInterrupt\u001b[0m                         Traceback (most recent call last)",
      "\u001b[1;32mc:\\Users\\Luis.Pinto1\\Documents\\GitHub\\ML carbon competition\\ML-carbon-capture-competition\\sandbox\\4 xgb_classifier_plusMinus2_7kfeats_hyperparam_tuning test.ipynb Cell 11\u001b[0m in \u001b[0;36m<cell line: 9>\u001b[1;34m()\u001b[0m\n\u001b[0;32m      <a href='vscode-notebook-cell:/c%3A/Users/Luis.Pinto1/Documents/GitHub/ML%20carbon%20competition/ML-carbon-capture-competition/sandbox/4%20xgb_classifier_plusMinus2_7kfeats_hyperparam_tuning%20test.ipynb#X10sZmlsZQ%3D%3D?line=6'>7</a>\u001b[0m num_trees_list \u001b[39m=\u001b[39m []\n\u001b[0;32m      <a href='vscode-notebook-cell:/c%3A/Users/Luis.Pinto1/Documents/GitHub/ML%20carbon%20competition/ML-carbon-capture-competition/sandbox/4%20xgb_classifier_plusMinus2_7kfeats_hyperparam_tuning%20test.ipynb#X10sZmlsZQ%3D%3D?line=8'>9</a>\u001b[0m \u001b[39mfor\u001b[39;00m hyperparams \u001b[39min\u001b[39;00m hyperparameter_combinations:\n\u001b[0;32m     <a href='vscode-notebook-cell:/c%3A/Users/Luis.Pinto1/Documents/GitHub/ML%20carbon%20competition/ML-carbon-capture-competition/sandbox/4%20xgb_classifier_plusMinus2_7kfeats_hyperparam_tuning%20test.ipynb#X10sZmlsZQ%3D%3D?line=9'>10</a>\u001b[0m     \u001b[39m# Train your model with the current hyperparameters\u001b[39;00m\n\u001b[1;32m---> <a href='vscode-notebook-cell:/c%3A/Users/Luis.Pinto1/Documents/GitHub/ML%20carbon%20competition/ML-carbon-capture-competition/sandbox/4%20xgb_classifier_plusMinus2_7kfeats_hyperparam_tuning%20test.ipynb#X10sZmlsZQ%3D%3D?line=10'>11</a>\u001b[0m     clf \u001b[39m=\u001b[39m xgb\u001b[39m.\u001b[39;49mtrain(hyperparams,dtrain,evals\u001b[39m=\u001b[39;49m[(dtrain, \u001b[39m'\u001b[39;49m\u001b[39mtrain\u001b[39;49m\u001b[39m'\u001b[39;49m),(dval, \u001b[39m'\u001b[39;49m\u001b[39mtest\u001b[39;49m\u001b[39m'\u001b[39;49m)],num_boost_round\u001b[39m=\u001b[39;49m\u001b[39m250\u001b[39;49m,verbose_eval\u001b[39m=\u001b[39;49m\u001b[39mFalse\u001b[39;49;00m,early_stopping_rounds\u001b[39m=\u001b[39;49m\u001b[39m5\u001b[39;49m)\n\u001b[0;32m     <a href='vscode-notebook-cell:/c%3A/Users/Luis.Pinto1/Documents/GitHub/ML%20carbon%20competition/ML-carbon-capture-competition/sandbox/4%20xgb_classifier_plusMinus2_7kfeats_hyperparam_tuning%20test.ipynb#X10sZmlsZQ%3D%3D?line=12'>13</a>\u001b[0m     \u001b[39m# Make predictions on the test set\u001b[39;00m\n\u001b[0;32m     <a href='vscode-notebook-cell:/c%3A/Users/Luis.Pinto1/Documents/GitHub/ML%20carbon%20competition/ML-carbon-capture-competition/sandbox/4%20xgb_classifier_plusMinus2_7kfeats_hyperparam_tuning%20test.ipynb#X10sZmlsZQ%3D%3D?line=13'>14</a>\u001b[0m     y_pred_train \u001b[39m=\u001b[39m clf\u001b[39m.\u001b[39mpredict(dtrain)\n",
      "File \u001b[1;32mc:\\Users\\Luis.Pinto1\\AppData\\Local\\Programs\\Python\\Python310\\lib\\site-packages\\xgboost\\core.py:532\u001b[0m, in \u001b[0;36m_deprecate_positional_args.<locals>.inner_f\u001b[1;34m(*args, **kwargs)\u001b[0m\n\u001b[0;32m    530\u001b[0m \u001b[39mfor\u001b[39;00m k, arg \u001b[39min\u001b[39;00m \u001b[39mzip\u001b[39m(sig\u001b[39m.\u001b[39mparameters, args):\n\u001b[0;32m    531\u001b[0m     kwargs[k] \u001b[39m=\u001b[39m arg\n\u001b[1;32m--> 532\u001b[0m \u001b[39mreturn\u001b[39;00m f(\u001b[39m*\u001b[39m\u001b[39m*\u001b[39mkwargs)\n",
      "File \u001b[1;32mc:\\Users\\Luis.Pinto1\\AppData\\Local\\Programs\\Python\\Python310\\lib\\site-packages\\xgboost\\training.py:181\u001b[0m, in \u001b[0;36mtrain\u001b[1;34m(params, dtrain, num_boost_round, evals, obj, feval, maximize, early_stopping_rounds, evals_result, verbose_eval, xgb_model, callbacks, custom_metric)\u001b[0m\n\u001b[0;32m    179\u001b[0m \u001b[39mif\u001b[39;00m cb_container\u001b[39m.\u001b[39mbefore_iteration(bst, i, dtrain, evals):\n\u001b[0;32m    180\u001b[0m     \u001b[39mbreak\u001b[39;00m\n\u001b[1;32m--> 181\u001b[0m bst\u001b[39m.\u001b[39;49mupdate(dtrain, i, obj)\n\u001b[0;32m    182\u001b[0m \u001b[39mif\u001b[39;00m cb_container\u001b[39m.\u001b[39mafter_iteration(bst, i, dtrain, evals):\n\u001b[0;32m    183\u001b[0m     \u001b[39mbreak\u001b[39;00m\n",
      "File \u001b[1;32mc:\\Users\\Luis.Pinto1\\AppData\\Local\\Programs\\Python\\Python310\\lib\\site-packages\\xgboost\\core.py:1733\u001b[0m, in \u001b[0;36mBooster.update\u001b[1;34m(self, dtrain, iteration, fobj)\u001b[0m\n\u001b[0;32m   1730\u001b[0m \u001b[39mself\u001b[39m\u001b[39m.\u001b[39m_validate_features(dtrain)\n\u001b[0;32m   1732\u001b[0m \u001b[39mif\u001b[39;00m fobj \u001b[39mis\u001b[39;00m \u001b[39mNone\u001b[39;00m:\n\u001b[1;32m-> 1733\u001b[0m     _check_call(_LIB\u001b[39m.\u001b[39;49mXGBoosterUpdateOneIter(\u001b[39mself\u001b[39;49m\u001b[39m.\u001b[39;49mhandle,\n\u001b[0;32m   1734\u001b[0m                                             ctypes\u001b[39m.\u001b[39;49mc_int(iteration),\n\u001b[0;32m   1735\u001b[0m                                             dtrain\u001b[39m.\u001b[39;49mhandle))\n\u001b[0;32m   1736\u001b[0m \u001b[39melse\u001b[39;00m:\n\u001b[0;32m   1737\u001b[0m     pred \u001b[39m=\u001b[39m \u001b[39mself\u001b[39m\u001b[39m.\u001b[39mpredict(dtrain, output_margin\u001b[39m=\u001b[39m\u001b[39mTrue\u001b[39;00m, training\u001b[39m=\u001b[39m\u001b[39mTrue\u001b[39;00m)\n",
      "\u001b[1;31mKeyboardInterrupt\u001b[0m: "
     ]
    }
   ],
   "source": [
    "# Initialize empty lists to store results\n",
    "auc_scores = []\n",
    "aucpr_scores = []\n",
    "best_thresholds = []\n",
    "confusion_matrices = []\n",
    "hyparparams_list = []\n",
    "num_trees_list = []\n",
    "\n",
    "for hyperparams in hyperparameter_combinations:\n",
    "    # Train your model with the current hyperparameters\n",
    "    clf = xgb.train(hyperparams,dtrain,evals=[(dtrain, 'train'),(dval, 'test')],num_boost_round=250,verbose_eval=False,early_stopping_rounds=5)\n",
    "\n",
    "    # Make predictions on the test set\n",
    "    y_pred_train = clf.predict(dtrain)\n",
    "    y_pred_val = clf.predict(dval)\n",
    "\n",
    "    num_trees = clf.best_ntree_limit\n",
    "    num_trees_list.append(num_trees)\n",
    "\n",
    "    # Calculate the precision-recall curve\n",
    "    precision, recall, thresholds = precision_recall_curve(y_test, y_pred_val)\n",
    "    \n",
    "    # Calculate AUC and AUCPR\n",
    "    print(f'AUC={auc(recall, precision)}')\n",
    "    print(f'AUCPR={average_precision_score(y_test, y_pred_val)}')\n",
    "    auc_scores.append(auc(recall, precision))\n",
    "    aucpr_scores.append(average_precision_score(y_test, y_pred_val))\n",
    "\n",
    "    # Find the best threshold\n",
    "    best_threshold = find_optimal_threshold(y_test, y_pred_val)\n",
    "    best_thresholds.append(best_threshold)\n",
    "\n",
    "    # Calculate TP, FP, FN using the best threshold\n",
    "    y_pred = (y_pred_val > best_threshold).astype(int)\n",
    "    tn, fp, fn, tp = confusion_matrix(y_test, y_pred).ravel()\n",
    "    confusion_matrices.append((tp, fp, fn))\n",
    "    print(f'TP={tp}, FP={fp}, FN={fn}')\n",
    "\n",
    "    print('--'*5)\n",
    "\n",
    "# Combine the results into a list of dictionaries\n",
    "results = []\n",
    "for i, hyperparams in enumerate(hyperparameter_combinations):\n",
    "    results.append({\n",
    "        'hyperparameters': hyperparams,\n",
    "        'AUC': auc_scores[i],\n",
    "        'AUCPR': aucpr_scores[i],\n",
    "        'Best_threshold': best_thresholds[i],\n",
    "        'TP': confusion_matrices[i][0],\n",
    "        'FP': confusion_matrices[i][1],\n",
    "        'FN': confusion_matrices[i][2],\n",
    "    })"
   ]
  },
  {
   "cell_type": "code",
   "execution_count": 23,
   "metadata": {},
   "outputs": [
    {
     "data": {
      "text/plain": [
       "11"
      ]
     },
     "execution_count": 23,
     "metadata": {},
     "output_type": "execute_result"
    }
   ],
   "source": [
    "np.argmax([x['AUCPR'] for x in results])"
   ]
  },
  {
   "cell_type": "code",
   "execution_count": 26,
   "metadata": {},
   "outputs": [
    {
     "data": {
      "text/plain": [
       "43"
      ]
     },
     "execution_count": 26,
     "metadata": {},
     "output_type": "execute_result"
    }
   ],
   "source": [
    "num_trees_list[11]"
   ]
  },
  {
   "cell_type": "code",
   "execution_count": 25,
   "metadata": {},
   "outputs": [
    {
     "data": {
      "text/plain": [
       "{'hyperparameters': {'alpha': 1,\n",
       "  'lambda': 5,\n",
       "  'colsample_bytree': 1,\n",
       "  'colsample_bylevel': 0.7,\n",
       "  'subsample': 1,\n",
       "  'eval_metric': 'logloss',\n",
       "  'tree_method': 'exact',\n",
       "  'nthread': -2,\n",
       "  'objective': 'binary:logistic',\n",
       "  'scale_pos_weight': 1},\n",
       " 'AUC': 0.972685676226667,\n",
       " 'AUCPR': 0.972769247720651,\n",
       " 'Best_threshold': 0.49884367,\n",
       " 'TP': 173,\n",
       " 'FP': 10,\n",
       " 'FN': 15}"
      ]
     },
     "execution_count": 25,
     "metadata": {},
     "output_type": "execute_result"
    }
   ],
   "source": [
    "results[26]"
   ]
  },
  {
   "attachments": {},
   "cell_type": "markdown",
   "metadata": {},
   "source": [
    "### Get best result"
   ]
  },
  {
   "cell_type": "code",
   "execution_count": null,
   "metadata": {},
   "outputs": [],
   "source": []
  },
  {
   "cell_type": "code",
   "execution_count": null,
   "metadata": {},
   "outputs": [],
   "source": []
  },
  {
   "cell_type": "code",
   "execution_count": null,
   "metadata": {},
   "outputs": [],
   "source": []
  },
  {
   "cell_type": "code",
   "execution_count": 13,
   "metadata": {},
   "outputs": [],
   "source": [
    "y_pred_train = clf.predict(dtrain)\n",
    "y_pred_val = clf.predict(dval)"
   ]
  },
  {
   "cell_type": "code",
   "execution_count": 14,
   "metadata": {},
   "outputs": [
    {
     "data": {
      "image/png": "[encoded data removed]",
      "text/plain": [
       "<Figure size 432x288 with 1 Axes>"
      ]
     },
     "metadata": {
      "needs_background": "light"
     },
     "output_type": "display_data"
    }
   ],
   "source": [
    "# plot the histogram of probabilities with the color representing the true label\n",
    "plt.hist([y_pred_val[y_test==0], y_pred_val[y_test==1]], bins=50, color=['b', 'r'], alpha=0.5, label=['Negative', 'Positive'])\n",
    "plt.xlabel('Probability')\n",
    "plt.ylabel('Frequency')\n",
    "plt.legend(loc='upper center')\n",
    "plt.show()"
   ]
  },
  {
   "cell_type": "code",
   "execution_count": 15,
   "metadata": {},
   "outputs": [
    {
     "data": {
      "image/png": "[encoded data removed]",
      "text/plain": [
       "<Figure size 432x288 with 1 Axes>"
      ]
     },
     "metadata": {
      "needs_background": "light"
     },
     "output_type": "display_data"
    }
   ],
   "source": [
    "# calculate and plot the AUC-PR curve\n",
    "precision, recall, _ = precision_recall_curve(y_test, y_pred_val)\n",
    "average_precision = average_precision_score(y_test, y_pred_val)\n",
    "plt.plot(recall, precision, label='AP={:.2f}'.format(average_precision))\n",
    "plt.xlabel('Recall')\n",
    "plt.ylabel('Precision')\n",
    "plt.legend(loc='lower left')\n",
    "plt.show()"
   ]
  },
  {
   "cell_type": "code",
   "execution_count": 16,
   "metadata": {},
   "outputs": [
    {
     "name": "stdout",
     "output_type": "stream",
     "text": [
      "Best Threshold: 0.3725\n"
     ]
    }
   ],
   "source": [
    "# calculate the precision-recall curve\n",
    "precision, recall, thresholds = precision_recall_curve(y_test, y_pred_val)\n",
    "area = auc(recall, precision)\n",
    "\n",
    "# find the threshold that maximizes the AUC-PR\n",
    "f1_scores = 2 * precision * recall / (precision + recall + 1e-10)\n",
    "best_threshold = thresholds[np.argmax(f1_scores)]\n",
    "\n",
    "# print the best threshold and the corresponding AUC-PR\n",
    "print('Best Threshold: {:.4f}'.format(best_threshold))"
   ]
  },
  {
   "attachments": {},
   "cell_type": "markdown",
   "metadata": {},
   "source": [
    "## Old confusion-matrix\n",
    "All feat:\n",
    "TP=269\n",
    "FN=38\n",
    "FP=23\n",
    "\n",
    "Top 4 feat:\n",
    "TP=273\n",
    "FN=34\n",
    "FP=23"
   ]
  },
  {
   "cell_type": "code",
   "execution_count": 18,
   "metadata": {},
   "outputs": [],
   "source": [
    "# predict binary labels using the best threshold\n",
    "y_pred = (y_pred_val >= best_threshold).astype(int)\n",
    "\n",
    "# calculate the confusion matrix\n",
    "cm = confusion_matrix(y_test, y_pred)"
   ]
  },
  {
   "cell_type": "code",
   "execution_count": 19,
   "metadata": {},
   "outputs": [
    {
     "data": {
      "text/plain": [
       "array([[5258,   16],\n",
       "       [  13,  175]], dtype=int64)"
      ]
     },
     "execution_count": 19,
     "metadata": {},
     "output_type": "execute_result"
    }
   ],
   "source": [
    "cm"
   ]
  },
  {
   "cell_type": "code",
   "execution_count": 40,
   "metadata": {},
   "outputs": [
    {
     "data": {
      "text/plain": [
       "array([[8722,   33],\n",
       "       [  34,  273]], dtype=int64)"
      ]
     },
     "execution_count": 40,
     "metadata": {},
     "output_type": "execute_result"
    }
   ],
   "source": [
    "cm"
   ]
  }
 ],
 "metadata": {
  "kernelspec": {
   "display_name": "Python 3",
   "language": "python",
   "name": "python3"
  },
  "language_info": {
   "codemirror_mode": {
    "name": "ipython",
    "version": 3
   },
   "file_extension": ".py",
   "mimetype": "text/x-python",
   "name": "python",
   "nbconvert_exporter": "python",
   "pygments_lexer": "ipython3",
   "version": "3.10.5"
  },
  "orig_nbformat": 4,
  "vscode": {
   "interpreter": {
    "hash": "1ed5e650e7b85f6d28a7881f323a4bb46d30b3be17201a6770ba700219f95cb4"
   }
  }
 },
 "nbformat": 4,
 "nbformat_minor": 2
}
